{
 "cells": [
  {
   "cell_type": "code",
   "execution_count": 31,
   "metadata": {
    "dotnet_interactive": {
     "language": "csharp"
    },
    "polyglot_notebook": {
     "kernelName": "csharp"
    }
   },
   "outputs": [
    {
     "data": {
      "text/html": [
       "<div><div></div><div></div><div><strong>Installed Packages</strong><ul><li><span>Azure.AI.OpenAI, 1.0.0-beta.15</span></li><li><span>Microsoft.DotNet.Interactive, 1.0.0-beta.24164.1</span></li></ul></div></div>"
      ]
     },
     "metadata": {},
     "output_type": "display_data"
    }
   ],
   "source": [
    "#r \"nuget: Azure.AI.OpenAI, 1.0.0-beta.15\"\n",
    "#r \"nuget: Microsoft.DotNet.Interactive, 1.0.0-beta.24164.1\"\n",
    "#!import config/Settings.cs "
   ]
  },
  {
   "cell_type": "code",
   "execution_count": 32,
   "metadata": {
    "dotnet_interactive": {
     "language": "csharp"
    },
    "polyglot_notebook": {
     "kernelName": "csharp"
    }
   },
   "outputs": [],
   "source": [
    "using Azure.AI.OpenAI;\n",
    "using System;\n",
    "using Microsoft.DotNet.Interactive;"
   ]
  },
  {
   "cell_type": "code",
   "execution_count": 33,
   "metadata": {
    "dotnet_interactive": {
     "language": "csharp"
    },
    "polyglot_notebook": {
     "kernelName": "csharp"
    }
   },
   "outputs": [],
   "source": [
    "var (deploymentModel, endpoint, key) = Settings.LoadFromFile();"
   ]
  },
  {
   "cell_type": "code",
   "execution_count": 34,
   "metadata": {
    "dotnet_interactive": {
     "language": "csharp"
    },
    "polyglot_notebook": {
     "kernelName": "csharp"
    }
   },
   "outputs": [],
   "source": [
    "var client = new OpenAIClient(new Uri(endpoint), new Azure.AzureKeyCredential(key));"
   ]
  },
  {
   "cell_type": "code",
   "execution_count": 36,
   "metadata": {
    "dotnet_interactive": {
     "language": "csharp"
    },
    "polyglot_notebook": {
     "kernelName": "csharp"
    }
   },
   "outputs": [],
   "source": [
    "//Seja educado com as pessoas e pergunte como elas estão. Sempre deseje um bom evento no final das mensagens\n",
    "\n",
    "var systemPrompt = \"\"\"\n",
    "Você é um assistente para um evento de tecnologia.\n",
    "Seja educado com as pessoas.\n",
    "\n",
    "Essa é a mensagem de boas vinda que as pessoas tem acesso pelo celular e por diversos banners:\n",
    "Bem-vindo à Conferência de Tecnologia DIO on DEPLOY, um evento de três dias dedicado ao compartilhamento de conhecimentos e experiências nas áreas de back-end, front-end, infraestrutura e inteligência artificial (IA). Durante o evento, haverá 30 palestras emocionantes distribuídas em 4 salas, oferecendo uma variedade de tópicos para satisfazer sua curiosidade e aprimorar suas habilidades técnicas.\n",
    "\n",
    "Programação:\n",
    "Sala: 1. Princípios de Desenvolvimento De Aplicações\t\n",
    "\t\n",
    "08:00-09:00\tBootcamps DIO: Educação Gratuita e Empregabilidade Juntas!\n",
    "09:00-10:30\tOnboarding: Conhecendo a jornada educacional\n",
    "10:30-12:00\tVersionamento de Código com Git e GitHub\n",
    "13:00-14:00\tDesafios de Projetos: Crie Um Portfólio Vencedor\n",
    "14:00-15:30\tContribuindo em um Projeto Open Source no GitHub\n",
    "\t\n",
    "Sala: 2. Fundamentos do .NET\t\n",
    "\t\n",
    "08:00-09:00\tIntrodução ao .NET\n",
    "09:00-10:30\tIntrodução as IDEs e Configuração de Ambiente .NET\n",
    "10:30-12:00\tSintaxe e Tipos de Dados em C#\n",
    "13:00-14:00\tTipos de Operadores em C#\n",
    "14:00-15:30\tOperadores Aritméticos em C#\n",
    "\t\n",
    "Sala: 3. Fundamentos do .NET\t\n",
    "08:00-09:00\tConhecendo as Estruturas de Repetição em C#\n",
    "09:00-10:30\tConhecendo a Organização de um Programa C#\n",
    "10:30-12:00\tArray e Listas em C#\n",
    "13:00-14:00\tConstruindo um Sistema para um Estacionamento com C#\n",
    "14:00-15:30\t2 Desafios de código C# com temática de estrutura de dados\n",
    "\t\n",
    "Sala: 4. Manipulando Dados e Objetos com .NET\t\n",
    "\t\n",
    "08:00-09:00\tPropriedades, Métodos e Construtores com C#\n",
    "09:00-10:30\tManipulando Valores com C#\n",
    "10:30-12:00\tExceções e Coleções com C#\n",
    "13:00-14:00\tTuplas, Operador Ternário e Desconstrução de um Objeto com C#\n",
    "14:00-15:30\tNuget, Serializar e Atributos no C#\n",
    "15:30-19:00\tConstruindo um Sistema de Hospedagem de um Hotel no C#\n",
    "19:00-20:00\t3 Desafios de código em c# com foco em funções\n",
    "\t\n",
    "Sala: 5. Programação Orientada a Objetos com C#\t\n",
    "\t\n",
    "08:00-09:00\tIntrodução, Abstração e Encapsulamento com C#\n",
    "09:00-10:30\tHerança e Polimorfismo com C#\n",
    "10:30-12:00\tClasses Abstratas e Interfaces com C#\n",
    "13:00-14:00\tCriando um Sistema e Abstraindo um Celular com POO em C#\n",
    "14:00-15:30\t3 desafios de código com tematica de POO\n",
    "\t\n",
    "Sala: 6. Programação De APIs Com Banco de Dados\t\n",
    "\t\n",
    "08:00-09:00\tIntrodução Banco de Dados\n",
    "09:00-10:30\tSQL SERVER - Dominando Tabelas e Tipos de Dados\n",
    "10:30-12:00\tSQL SERVER - Manipulando Dados\n",
    "13:00-14:00\tMontando Consultas Relacionais no SQL Server\n",
    "14:00-15:30\tIntrodução as APIs com C#\n",
    "\t\n",
    "Sala: 7. Programação De APIs Com Banco de Dados\t\n",
    "08:00-09:00\tTrabalhando com Entity Framework com C#\n",
    "09:00-10:30\tConstruindo um Sistema de Agendamento de Tarefas com Entity Framework\n",
    "10:30-12:00\tConhecendo e Instalando o Docker\n",
    "13:00-14:00\tPrimeiros Passos com o Docker\n",
    "\t\n",
    "Sala: 8. Trabalhando com Desenvolvimento Orientado a Testes\t\n",
    "\t\n",
    "08:00-09:00\tTestes Unitários com C#\n",
    "09:00-10:30\tImplementando Validações de Testes Unitários com C#\n",
    "10:30-12:00\tConfiguração da Suíte de Testes e Aplicando Testes Integrados em .NET\n",
    "13:00-14:00\tBlindando Seu Código com TDD e Testes Unitários Usando .NET Core\n",
    "\t\n",
    "\t\n",
    "Mentorias - (Acontecem em paralelo aos módulos)\t\n",
    "\t\n",
    "Sala 9: Keynotes\t\n",
    "7:00\tLive de abertura do Bootcamp\n",
    "7:15\tAula Inaugural do Bootcamp\n",
    "7:15-8:30\tComo utilizar IA como copiloto de programação com .NET\n",
    "8:30-8:45\tGerando documentação automática para projetos .NET com IA\n",
    "8:45-9:00\tRoadmap Criando um Plano de estudos de .NET com IA\n",
    "\n",
    "\n",
    "\"\"\";"
   ]
  },
  {
   "cell_type": "code",
   "execution_count": 37,
   "metadata": {
    "dotnet_interactive": {
     "language": "csharp"
    },
    "polyglot_notebook": {
     "kernelName": "csharp"
    }
   },
   "outputs": [],
   "source": [
    "var options = new ChatCompletionsOptions {\n",
    "    MaxTokens = 200,\n",
    "    Temperature = 1.7f,\n",
    "    NucleusSamplingFactor = 0.95f,\n",
    "    FrequencyPenalty = 0,\n",
    "    PresencePenalty = 0,\n",
    "    DeploymentName = deploymentModel\n",
    "};"
   ]
  },
  {
   "cell_type": "code",
   "execution_count": 38,
   "metadata": {
    "dotnet_interactive": {
     "language": "csharp"
    },
    "polyglot_notebook": {
     "kernelName": "csharp"
    }
   },
   "outputs": [],
   "source": [
    "var item = new ChatRequestSystemMessage(systemPrompt);\n",
    "\n",
    "options.Messages.Add(item);"
   ]
  },
  {
   "cell_type": "code",
   "execution_count": 39,
   "metadata": {
    "dotnet_interactive": {
     "language": "csharp"
    },
    "polyglot_notebook": {
     "kernelName": "csharp"
    }
   },
   "outputs": [
    {
     "name": "stdout",
     "output_type": "stream",
     "text": [
      " ======i-1====== \n",
      "Usuário: tem palestra de docker?\n",
      "\n",
      "Assistente: Olá! Como você está?\n",
      "\n",
      "Sim, temos uma palestra dedicada ao Docker no evento. Aqui estão os detalhes:\n",
      "\n",
      "Sala: 7. Programação De APIs Com Banco de Dados\n",
      "- 10:30-12:00 Conhecendo e Instalando o Docker\n",
      "- 13:00-14:00 Primeiros Passos com o Docker\n",
      "\n",
      "Essas palestras serão uma excelente oportunidade para aprender sobre os fundamentos do Docker e como dar seus primeiros passos nessa tecnologia. Espero que encontre essas sessões informativas e úteis.\n",
      "\n",
      "Desejo um ótimo evento para você! Se tiver mais alguma dúvida, fique à vontade para perguntar.\n",
      " ======f-1======  \n",
      "\n",
      "Assistente: Você é muito bem-vindo! Fico feliz por ter podido ajudar. Se tiver mais alguma dúvida no decorrer do evento, não hesite em me procurar. Desejo-lhe uma experiência enriquecedora e inspiradora na Conferência de Tecnologia DIO on DEPLOY. Até mais e um excelente evento para você!\n"
     ]
    }
   ],
   "source": [
    "var chatting = true;\n",
    "\n",
    "//Console.WriteLine(systemPrompt);\n",
    "int interation = 1;\n",
    "while (chatting)\n",
    "{\n",
    "    var userMessage = await Kernel.GetInputAsync();\n",
    "\n",
    "    if (userMessage.ToLower() == \"sair\")\n",
    "    {\n",
    "        Console.WriteLine(\"\");\n",
    "        var requestSair = new ChatRequestUserMessage(\"Muito obg pelas informações, vc foi muito gentil. Até mais!\");\n",
    "        options.Messages.Add(requestSair);\n",
    "        var assistantResponseSair = await client.GetChatCompletionsAsync(options);\n",
    "        var responseSair = assistantResponseSair.Value.Choices[0].Message.Content;\n",
    "        Console.WriteLine(\"Assistente: \" + responseSair);\n",
    "        \n",
    "        chatting = false;\n",
    "        break;\n",
    "    }\n",
    "\n",
    "    Console.WriteLine($\" ======i-{interation}====== \");\n",
    "    Console.WriteLine(\"Usuário: \" + userMessage);\n",
    "\n",
    "    var request = new ChatRequestUserMessage(userMessage);\n",
    "\n",
    "    options.Messages.Add(request);\n",
    "    var assistantResponse = await client.GetChatCompletionsAsync(options);\n",
    "\n",
    "    var response = assistantResponse.Value.Choices[0].Message.Content;\n",
    "    Console.WriteLine();\n",
    "    Console.WriteLine(\"Assistente: \" + response);\n",
    "    Console.WriteLine($\" ======f-{interation}======  \");\n",
    "    options.Messages.Add(new ChatRequestAssistantMessage(response));\n",
    "\n",
    "    interation++;\n",
    "}"
   ]
  }
 ],
 "metadata": {
  "kernelspec": {
   "display_name": ".NET (C#)",
   "language": "C#",
   "name": ".net-csharp"
  },
  "language_info": {
   "name": "polyglot-notebook"
  },
  "polyglot_notebook": {
   "kernelInfo": {
    "defaultKernelName": "csharp",
    "items": [
     {
      "aliases": [],
      "languageName": "csharp",
      "name": "csharp"
     }
    ]
   }
  }
 },
 "nbformat": 4,
 "nbformat_minor": 2
}
