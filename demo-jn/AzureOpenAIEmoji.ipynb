{
 "cells": [
  {
   "cell_type": "code",
   "execution_count": 9,
   "metadata": {
    "dotnet_interactive": {
     "language": "csharp"
    },
    "polyglot_notebook": {
     "kernelName": "csharp"
    }
   },
   "outputs": [
    {
     "data": {
      "text/html": [
       "<div><div></div><div></div><div><strong>Installed Packages</strong><ul><li><span>Azure.AI.OpenAI, 1.0.0-beta.15</span></li><li><span>Microsoft.DotNet.Interactive, 1.0.0-beta.24164.1</span></li></ul></div></div>"
      ]
     },
     "metadata": {},
     "output_type": "display_data"
    }
   ],
   "source": [
    "#r \"nuget: Azure.AI.OpenAI, 1.0.0-beta.15\"\n",
    "#r \"nuget: Microsoft.DotNet.Interactive, 1.0.0-beta.24164.1\"\n",
    "#!import config/Settings.cs "
   ]
  },
  {
   "cell_type": "code",
   "execution_count": 10,
   "metadata": {
    "dotnet_interactive": {
     "language": "csharp"
    },
    "polyglot_notebook": {
     "kernelName": "csharp"
    }
   },
   "outputs": [],
   "source": [
    "using Azure.AI.OpenAI;\n",
    "using System;\n",
    "using Microsoft.DotNet.Interactive;"
   ]
  },
  {
   "cell_type": "code",
   "execution_count": 11,
   "metadata": {
    "dotnet_interactive": {
     "language": "csharp"
    },
    "polyglot_notebook": {
     "kernelName": "csharp"
    }
   },
   "outputs": [],
   "source": [
    "var (deploymentModel, endpoint, key) = Settings.LoadFromFile();"
   ]
  },
  {
   "cell_type": "code",
   "execution_count": 12,
   "metadata": {
    "dotnet_interactive": {
     "language": "csharp"
    },
    "polyglot_notebook": {
     "kernelName": "csharp"
    }
   },
   "outputs": [],
   "source": [
    "var client = new OpenAIClient(new Uri(endpoint), new Azure.AzureKeyCredential(key));"
   ]
  },
  {
   "cell_type": "code",
   "execution_count": 14,
   "metadata": {
    "dotnet_interactive": {
     "language": "csharp"
    },
    "polyglot_notebook": {
     "kernelName": "csharp"
    }
   },
   "outputs": [],
   "source": [
    "//??A inteligência artificial é uma tecnologia muito promissora.\n",
    "\n",
    "var systemPrompt = \"\"\"\n",
    "Você receberá um texto e sua tarefa é traduzi-lo em emojis. Não use nenhum texto normal. Faça o seu melhor apenas com emojis.\n",
    "\"\"\";"
   ]
  },
  {
   "cell_type": "code",
   "execution_count": 15,
   "metadata": {
    "dotnet_interactive": {
     "language": "csharp"
    },
    "polyglot_notebook": {
     "kernelName": "csharp"
    }
   },
   "outputs": [],
   "source": [
    "var options = new ChatCompletionsOptions {\n",
    "    MaxTokens = 64,\n",
    "    Temperature = 0.8f,\n",
    "    NucleusSamplingFactor = 0.95f,\n",
    "    FrequencyPenalty = 0,\n",
    "    PresencePenalty = 0,\n",
    "    DeploymentName = deploymentModel\n",
    "};"
   ]
  },
  {
   "cell_type": "code",
   "execution_count": 16,
   "metadata": {
    "dotnet_interactive": {
     "language": "csharp"
    },
    "polyglot_notebook": {
     "kernelName": "csharp"
    }
   },
   "outputs": [],
   "source": [
    "var item = new ChatRequestSystemMessage(systemPrompt);\n",
    "\n",
    "options.Messages.Add(item);"
   ]
  },
  {
   "cell_type": "code",
   "execution_count": 17,
   "metadata": {
    "dotnet_interactive": {
     "language": "csharp"
    },
    "polyglot_notebook": {
     "kernelName": "csharp"
    }
   },
   "outputs": [
    {
     "name": "stdout",
     "output_type": "stream",
     "text": [
      " ======i-1====== \n",
      "Usuário: A inteligência artificial é uma tecnologia muito promissora.\n",
      "\n",
      "Assistente: 🤖💡🔝📈\n",
      " ======f-1======  \n",
      " ======i-2====== \n",
      "Usuário: odontologia é muito caro para estudar\n",
      "\n",
      "Assistente: 🦷💰💼📚💸\n",
      " ======f-2======  \n"
     ]
    },
    {
     "ename": "Error",
     "evalue": "Command cancelled.",
     "output_type": "error",
     "traceback": [
      "Command cancelled."
     ]
    }
   ],
   "source": [
    "var chatting = true;\n",
    "\n",
    "//Console.WriteLine(systemPrompt);\n",
    "int interation = 1;\n",
    "while (chatting)\n",
    "{\n",
    "    var userMessage = await Kernel.GetInputAsync();\n",
    "\n",
    "    if (userMessage.ToLower() == \"sair\")\n",
    "    {\n",
    "        Console.WriteLine(\"\");\n",
    "        var requestSair = new ChatRequestUserMessage(\"Muito obg pelas informações, vc foi muito gentil. Até mais!\");\n",
    "        options.Messages.Add(requestSair);\n",
    "        var assistantResponseSair = await client.GetChatCompletionsAsync(options);\n",
    "        var responseSair = assistantResponseSair.Value.Choices[0].Message.Content;\n",
    "        Console.WriteLine(\"Assistente: \" + responseSair);\n",
    "        \n",
    "        chatting = false;\n",
    "        break;\n",
    "    }\n",
    "\n",
    "    Console.WriteLine($\" ======i-{interation}====== \");\n",
    "    Console.WriteLine(\"Usuário: \" + userMessage);\n",
    "\n",
    "    var request = new ChatRequestUserMessage(userMessage);\n",
    "\n",
    "    options.Messages.Add(request);\n",
    "    var assistantResponse = await client.GetChatCompletionsAsync(options);\n",
    "\n",
    "    var response = assistantResponse.Value.Choices[0].Message.Content;\n",
    "    Console.WriteLine();\n",
    "    Console.WriteLine(\"Assistente: \" + response);\n",
    "    Console.WriteLine($\" ======f-{interation}======  \");\n",
    "    options.Messages.Add(new ChatRequestAssistantMessage(response));\n",
    "\n",
    "    interation++;\n",
    "}"
   ]
  }
 ],
 "metadata": {
  "kernelspec": {
   "display_name": ".NET (C#)",
   "language": "C#",
   "name": ".net-csharp"
  },
  "language_info": {
   "name": "polyglot-notebook"
  },
  "polyglot_notebook": {
   "kernelInfo": {
    "defaultKernelName": "csharp",
    "items": [
     {
      "aliases": [],
      "languageName": "csharp",
      "name": "csharp"
     }
    ]
   }
  }
 },
 "nbformat": 4,
 "nbformat_minor": 2
}
